{
 "cells": [
  {
   "cell_type": "markdown",
   "id": "69efff95-d8a8-402f-959a-f1762cbbca1e",
   "metadata": {},
   "source": [
    "# Notebook exploring tool usage"
   ]
  },
  {
   "cell_type": "code",
   "execution_count": 1,
   "id": "13a11a92-59e7-457d-a9cb-d1d4ef7ade17",
   "metadata": {},
   "outputs": [
    {
     "data": {
      "text/plain": [
       "True"
      ]
     },
     "execution_count": 1,
     "metadata": {},
     "output_type": "execute_result"
    }
   ],
   "source": [
    "import os\n",
    "from dotenv import load_dotenv\n",
    "\n",
    "while 'notebooks' in os.getcwd():\n",
    "    os.chdir('..')\n",
    "\n",
    "load_dotenv('.env')"
   ]
  },
  {
   "cell_type": "code",
   "execution_count": 22,
   "id": "5495e6fa-9d05-411c-99f4-6eb1a360d2fe",
   "metadata": {},
   "outputs": [],
   "source": [
    "import json\n",
    "import random\n",
    "from typing import Union\n",
    "\n",
    "from IPython.display import display, Markdown\n",
    "\n",
    "from openai import OpenAI"
   ]
  },
  {
   "cell_type": "markdown",
   "id": "36aec458-3902-404a-abea-a44014d7da2b",
   "metadata": {},
   "source": [
    "## Raw LLM"
   ]
  },
  {
   "cell_type": "code",
   "execution_count": 23,
   "id": "df92cb80-9e1a-40c8-90a9-c58a412004df",
   "metadata": {},
   "outputs": [],
   "source": [
    "class LLM:\n",
    "    def __init__(self, model: str = 'gpt-4.1'):\n",
    "        self.client = OpenAI()\n",
    "        self.model = model\n",
    "    \n",
    "        \n",
    "    def __call__(self, messages: Union[str, list[dict[str, str]]]):\n",
    "        if isinstance(messages, str):\n",
    "            messages = [{'role': 'user', 'content': messages}]\n",
    "        result = self.client.chat.completions.create(\n",
    "            model=self.model,\n",
    "            messages=messages,\n",
    "        )\n",
    "        return result.choices[0].message.content"
   ]
  },
  {
   "cell_type": "code",
   "execution_count": 4,
   "id": "899c7bec-e50c-44c6-b63a-1b6459c71cea",
   "metadata": {},
   "outputs": [],
   "source": [
    "llm = LLM()"
   ]
  },
  {
   "cell_type": "code",
   "execution_count": 5,
   "id": "e722fcf2-f982-4e04-ac57-23b29c2780ec",
   "metadata": {},
   "outputs": [
    {
     "data": {
      "text/plain": [
       "'Hey! Not much—just here, ready to help. What’s up with you?'"
      ]
     },
     "execution_count": 5,
     "metadata": {},
     "output_type": "execute_result"
    }
   ],
   "source": [
    "llm('What up')"
   ]
  },
  {
   "cell_type": "markdown",
   "id": "4c2034d8-4239-40cd-9721-286f7ff2a100",
   "metadata": {},
   "source": [
    "## Web search (built-in openai tool)"
   ]
  },
  {
   "cell_type": "code",
   "execution_count": 6,
   "id": "103f572c-a444-4b1a-93cf-a93731c46e55",
   "metadata": {},
   "outputs": [
    {
     "name": "stdout",
     "output_type": "stream",
     "text": [
      "CPU times: user 250 ms, sys: 78.1 ms, total: 328 ms\n",
      "Wall time: 7.1 s\n"
     ]
    }
   ],
   "source": [
    "%%time\n",
    "response = llm.client.responses.create(\n",
    "    model=llm.model,\n",
    "    tools=[{\"type\": \"web_search_preview\"}],\n",
    "    input=\"When is the next UFC?\"\n",
    ")"
   ]
  },
  {
   "cell_type": "code",
   "execution_count": 7,
   "id": "84e51466-4888-4758-97b8-2434cbc3db95",
   "metadata": {},
   "outputs": [
    {
     "data": {
      "text/plain": [
       "{'input_tokens': 307,\n",
       " 'input_tokens_details': {'cached_tokens': 0},\n",
       " 'output_tokens': 187,\n",
       " 'output_tokens_details': {'reasoning_tokens': 0},\n",
       " 'total_tokens': 494}"
      ]
     },
     "execution_count": 7,
     "metadata": {},
     "output_type": "execute_result"
    }
   ],
   "source": [
    "response.usage.model_dump()"
   ]
  },
  {
   "cell_type": "code",
   "execution_count": 8,
   "id": "1caff0b8-aa4c-4187-821e-6e6cd5bebbdd",
   "metadata": {},
   "outputs": [
    {
     "name": "stdout",
     "output_type": "stream",
     "text": [
      "{\n",
      "   \"id\": \"resp_68886104823881a1a96bd71cef076c430d084b7b4220189a\",\n",
      "   \"created_at\": 1753768196.0,\n",
      "   \"error\": null,\n",
      "   \"incomplete_details\": null,\n",
      "   \"instructions\": null,\n",
      "   \"metadata\": {},\n",
      "   \"model\": \"gpt-4.1-2025-04-14\",\n",
      "   \"object\": \"response\",\n",
      "   \"output\": [\n",
      "      {\n",
      "         \"id\": \"ws_68886105277c81a1a431e017ef6d8f160d084b7b4220189a\",\n",
      "         \"action\": {\n",
      "            \"query\": \"next UFC event date\",\n",
      "            \"type\": \"search\"\n",
      "         },\n",
      "         \"status\": \"completed\",\n",
      "         \"type\": \"web_search_call\"\n",
      "      },\n",
      "      {\n",
      "         \"id\": \"msg_68886106f10c81a195113468742c36180d084b7b4220189a\",\n",
      "         \"content\": [\n",
      "            {\n",
      "               \"annotations\": [\n",
      "                  {\n",
      "                     \"end_index\": 297,\n",
      "                     \"start_index\": 242,\n",
      "                     \"title\": \"Upcoming Events | UFC News\",\n",
      "                     \"type\": \"url_citation\",\n",
      "                     \"url\": \"https://ufc.news/events?utm_source=openai\"\n",
      "                  }\n",
      "               ],\n",
      "               \"text\": \"The next UFC event is scheduled for Saturday, August 2, 2025, at the UFC Apex in Las Vegas, Nevada. This event, titled \\\"UFC on ESPN 71: Albazi vs. Taira,\\\" will feature a flyweight bout between Amir Albazi and Tatsuro Taira as the main event. ([ufc.news](https://ufc.news/events?utm_source=openai))\\n\\nThe main card is set to begin at 10:00 PM Eastern Time (ET). For viewers in the United States, the event will be broadcast live on ESPN.\\n\\nThe UFC Apex is located in Las Vegas, Nevada, and serves as a primary venue for many UFC Fight Night events.\\n\\nFor the most up-to-date information on the fight card and any potential changes, you can visit the official UFC website or their social media channels. \",\n",
      "               \"type\": \"output_text\",\n",
      "               \"logprobs\": []\n",
      "            }\n",
      "         ],\n",
      "         \"role\": \"assistant\",\n",
      "         \"status\": \"completed\",\n",
      "         \"type\": \"message\"\n",
      "      }\n",
      "   ],\n",
      "   \"parallel_tool_calls\": true,\n",
      "   \"temperature\": 1.0,\n",
      "   \"tool_choice\": \"auto\",\n",
      "   \"tools\": [\n",
      "      {\n",
      "         \"type\": \"web_search_preview\",\n",
      "         \"search_context_size\": \"medium\",\n",
      "         \"user_location\": {\n",
      "            \"type\": \"approximate\",\n",
      "            \"city\": null,\n",
      "            \"country\": \"US\",\n",
      "            \"region\": null,\n",
      "            \"timezone\": null\n",
      "         }\n",
      "      }\n",
      "   ],\n",
      "   \"top_p\": 1.0,\n",
      "   \"background\": false,\n",
      "   \"max_output_tokens\": null,\n",
      "   \"max_tool_calls\": null,\n",
      "   \"previous_response_id\": null,\n",
      "   \"prompt\": null,\n",
      "   \"reasoning\": {\n",
      "      \"effort\": null,\n",
      "      \"generate_summary\": null,\n",
      "      \"summary\": null\n",
      "   },\n",
      "   \"service_tier\": \"default\",\n",
      "   \"status\": \"completed\",\n",
      "   \"text\": {\n",
      "      \"format\": {\n",
      "         \"type\": \"text\"\n",
      "      }\n",
      "   },\n",
      "   \"top_logprobs\": 0,\n",
      "   \"truncation\": \"disabled\",\n",
      "   \"usage\": {\n",
      "      \"input_tokens\": 307,\n",
      "      \"input_tokens_details\": {\n",
      "         \"cached_tokens\": 0\n",
      "      },\n",
      "      \"output_tokens\": 187,\n",
      "      \"output_tokens_details\": {\n",
      "         \"reasoning_tokens\": 0\n",
      "      },\n",
      "      \"total_tokens\": 494\n",
      "   },\n",
      "   \"user\": null,\n",
      "   \"prompt_cache_key\": null,\n",
      "   \"safety_identifier\": null,\n",
      "   \"store\": false\n",
      "}\n"
     ]
    }
   ],
   "source": [
    "print(json.dumps(response.model_dump(), indent=3, ensure_ascii=False))"
   ]
  },
  {
   "cell_type": "code",
   "execution_count": 9,
   "id": "d58e382f-b079-4bb4-8292-f1b4971f7fa8",
   "metadata": {},
   "outputs": [
    {
     "data": {
      "text/plain": [
       "ResponseFunctionWebSearch(id='ws_68886105277c81a1a431e017ef6d8f160d084b7b4220189a', action=ActionSearch(query='next UFC event date', type='search'), status='completed', type='web_search_call')"
      ]
     },
     "execution_count": 9,
     "metadata": {},
     "output_type": "execute_result"
    }
   ],
   "source": [
    "response.output[0]"
   ]
  },
  {
   "cell_type": "code",
   "execution_count": 10,
   "id": "470624a0-b9be-4a8a-ae9d-3885c6555b14",
   "metadata": {},
   "outputs": [
    {
     "data": {
      "text/plain": [
       "ResponseOutputMessage(id='msg_68886106f10c81a195113468742c36180d084b7b4220189a', content=[ResponseOutputText(annotations=[AnnotationURLCitation(end_index=297, start_index=242, title='Upcoming Events | UFC News', type='url_citation', url='https://ufc.news/events?utm_source=openai')], text='The next UFC event is scheduled for Saturday, August 2, 2025, at the UFC Apex in Las Vegas, Nevada. This event, titled \"UFC on ESPN 71: Albazi vs. Taira,\" will feature a flyweight bout between Amir Albazi and Tatsuro Taira as the main event. ([ufc.news](https://ufc.news/events?utm_source=openai))\\n\\nThe main card is set to begin at 10:00 PM Eastern Time (ET). For viewers in the United States, the event will be broadcast live on ESPN.\\n\\nThe UFC Apex is located in Las Vegas, Nevada, and serves as a primary venue for many UFC Fight Night events.\\n\\nFor the most up-to-date information on the fight card and any potential changes, you can visit the official UFC website or their social media channels. ', type='output_text', logprobs=[])], role='assistant', status='completed', type='message')"
      ]
     },
     "execution_count": 10,
     "metadata": {},
     "output_type": "execute_result"
    }
   ],
   "source": [
    "response.output[1]"
   ]
  },
  {
   "cell_type": "code",
   "execution_count": 11,
   "id": "ec879ba5-e7fd-460f-baf5-4796f7cba70a",
   "metadata": {},
   "outputs": [
    {
     "data": {
      "text/markdown": [
       "The next UFC event is scheduled for Saturday, August 2, 2025, at the UFC Apex in Las Vegas, Nevada. This event, titled \"UFC on ESPN 71: Albazi vs. Taira,\" will feature a flyweight bout between Amir Albazi and Tatsuro Taira as the main event. ([ufc.news](https://ufc.news/events?utm_source=openai))\n",
       "\n",
       "The main card is set to begin at 10:00 PM Eastern Time (ET). For viewers in the United States, the event will be broadcast live on ESPN.\n",
       "\n",
       "The UFC Apex is located in Las Vegas, Nevada, and serves as a primary venue for many UFC Fight Night events.\n",
       "\n",
       "For the most up-to-date information on the fight card and any potential changes, you can visit the official UFC website or their social media channels. "
      ],
      "text/plain": [
       "<IPython.core.display.Markdown object>"
      ]
     },
     "metadata": {},
     "output_type": "display_data"
    }
   ],
   "source": [
    "display(Markdown(response.output[1].content[0].text))"
   ]
  },
  {
   "cell_type": "code",
   "execution_count": 12,
   "id": "f1e7840f-2e1e-4a81-81f8-ac11f3b17726",
   "metadata": {},
   "outputs": [
    {
     "data": {
      "text/plain": [
       "[AnnotationURLCitation(end_index=297, start_index=242, title='Upcoming Events | UFC News', type='url_citation', url='https://ufc.news/events?utm_source=openai')]"
      ]
     },
     "execution_count": 12,
     "metadata": {},
     "output_type": "execute_result"
    }
   ],
   "source": [
    "response.output[1].content[0].annotations"
   ]
  },
  {
   "cell_type": "code",
   "execution_count": 13,
   "id": "0c26a4db-f2c6-414b-b951-3ef212f031d9",
   "metadata": {},
   "outputs": [
    {
     "data": {
      "text/plain": [
       "openai.types.responses.web_search_tool.WebSearchTool"
      ]
     },
     "execution_count": 13,
     "metadata": {},
     "output_type": "execute_result"
    }
   ],
   "source": [
    "tool = response.tools[0]\n",
    "type(tool)"
   ]
  },
  {
   "cell_type": "markdown",
   "id": "41e7e66d-cb60-4710-ba59-f3ae9fc993d8",
   "metadata": {},
   "source": [
    "## Function calling tool\n",
    "Probably the most useful tool of letting LLM to decide to use your own function."
   ]
  },
  {
   "cell_type": "code",
   "execution_count": 14,
   "id": "9f3e47b8-68be-4493-a63e-6220b28e9201",
   "metadata": {},
   "outputs": [],
   "source": [
    "tools = [{\n",
    "    \"type\": \"function\",\n",
    "    \"name\": \"get_weather\",\n",
    "    \"description\": \"Get current temperature for a given location.\",\n",
    "    \"parameters\": {\n",
    "        \"type\": \"object\",\n",
    "        \"properties\": {\n",
    "            \"location\": {\n",
    "                \"type\": \"string\",\n",
    "                \"description\": \"City and country e.g. Bogotá, Colombia\"\n",
    "            }\n",
    "        },\n",
    "        \"required\": [\n",
    "            \"location\"\n",
    "        ],\n",
    "        \"additionalProperties\": False\n",
    "    }\n",
    "}]"
   ]
  },
  {
   "cell_type": "code",
   "execution_count": 15,
   "id": "3ff51d2b-e932-467c-9254-b923a39868f3",
   "metadata": {},
   "outputs": [
    {
     "name": "stdout",
     "output_type": "stream",
     "text": [
      "CPU times: user 0 ns, sys: 0 ns, total: 0 ns\n",
      "Wall time: 566 ms\n"
     ]
    }
   ],
   "source": [
    "%%time\n",
    "response = llm.client.responses.create(\n",
    "    model=llm.model,\n",
    "    tools=tools,\n",
    "    input=\"What is the weather in Warsaw, Poland\"\n",
    ")"
   ]
  },
  {
   "cell_type": "code",
   "execution_count": 16,
   "id": "b9c1209a-a1c5-4d4b-8748-54556962b46f",
   "metadata": {},
   "outputs": [
    {
     "data": {
      "text/plain": [
       "1"
      ]
     },
     "execution_count": 16,
     "metadata": {},
     "output_type": "execute_result"
    }
   ],
   "source": [
    "len(response.output)"
   ]
  },
  {
   "cell_type": "code",
   "execution_count": 17,
   "id": "0bf1abbe-1fb2-4516-8182-6707aa68a9ef",
   "metadata": {},
   "outputs": [
    {
     "data": {
      "text/plain": [
       "ResponseFunctionToolCall(arguments='{\"location\":\"Warsaw, Poland\"}', call_id='call_i6RGcKGZvDLtRWYkEU9yB3Gw', name='get_weather', type='function_call', id='fc_6888610a1fec81a1a6b0cc66f35b5faf0c0b13f7b2e8eba3', status='completed')"
      ]
     },
     "execution_count": 17,
     "metadata": {},
     "output_type": "execute_result"
    }
   ],
   "source": [
    "function_call_response = response.output[0]\n",
    "function_call_response"
   ]
  },
  {
   "cell_type": "code",
   "execution_count": 18,
   "id": "f01d3a69-a526-4ab5-a392-17455fd0e036",
   "metadata": {},
   "outputs": [],
   "source": [
    "def get_weather(location: str):\n",
    "    return f\"Weather in {location} is {random.randint(0, 40)} °C\""
   ]
  },
  {
   "cell_type": "code",
   "execution_count": 19,
   "id": "9c213b28-dbbd-4c60-af29-ac82c95c4989",
   "metadata": {},
   "outputs": [],
   "source": [
    "functions = {\n",
    "    'get_weather': get_weather\n",
    "}"
   ]
  },
  {
   "cell_type": "code",
   "execution_count": 20,
   "id": "f749cdce-f556-4101-827b-2c994319d53d",
   "metadata": {},
   "outputs": [
    {
     "data": {
      "text/plain": [
       "'{\"location\":\"Warsaw, Poland\"}'"
      ]
     },
     "execution_count": 20,
     "metadata": {},
     "output_type": "execute_result"
    }
   ],
   "source": [
    "function_call_response.arguments"
   ]
  },
  {
   "cell_type": "code",
   "execution_count": 21,
   "id": "1714aca5-e3bd-4175-8c54-384ce6ac0f3b",
   "metadata": {},
   "outputs": [
    {
     "data": {
      "text/plain": [
       "'Weather in Warsaw, Poland is 7 °C'"
      ]
     },
     "execution_count": 21,
     "metadata": {},
     "output_type": "execute_result"
    }
   ],
   "source": [
    "functions[function_call_response.name](**json.loads(function_call_response.arguments))"
   ]
  }
 ],
 "metadata": {
  "kernelspec": {
   "display_name": "Python 3 (ipykernel)",
   "language": "python",
   "name": "python3"
  },
  "language_info": {
   "codemirror_mode": {
    "name": "ipython",
    "version": 3
   },
   "file_extension": ".py",
   "mimetype": "text/x-python",
   "name": "python",
   "nbconvert_exporter": "python",
   "pygments_lexer": "ipython3",
   "version": "3.11.13"
  }
 },
 "nbformat": 4,
 "nbformat_minor": 5
}
