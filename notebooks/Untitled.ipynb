{
 "cells": [
  {
   "cell_type": "markdown",
   "id": "69efff95-d8a8-402f-959a-f1762cbbca1e",
   "metadata": {},
   "source": [
    "# Notebook exploring tool usage"
   ]
  },
  {
   "cell_type": "code",
   "execution_count": 14,
   "id": "13a11a92-59e7-457d-a9cb-d1d4ef7ade17",
   "metadata": {},
   "outputs": [
    {
     "data": {
      "text/plain": [
       "True"
      ]
     },
     "execution_count": 14,
     "metadata": {},
     "output_type": "execute_result"
    }
   ],
   "source": [
    "import os\n",
    "from dotenv import load_dotenv\n",
    "\n",
    "while 'notebooks' in os.getcwd():\n",
    "    os.chdir('..')\n",
    "\n",
    "load_dotenv('.env')"
   ]
  },
  {
   "cell_type": "code",
   "execution_count": 155,
   "id": "5495e6fa-9d05-411c-99f4-6eb1a360d2fe",
   "metadata": {},
   "outputs": [],
   "source": [
    "import json\n",
    "import random\n",
    "from typing import Union\n",
    "\n",
    "from IPython.display import display, Markdown\n",
    "\n",
    "from openai import OpenAI"
   ]
  },
  {
   "cell_type": "markdown",
   "id": "36aec458-3902-404a-abea-a44014d7da2b",
   "metadata": {},
   "source": [
    "## Raw LLM"
   ]
  },
  {
   "cell_type": "code",
   "execution_count": 63,
   "id": "df92cb80-9e1a-40c8-90a9-c58a412004df",
   "metadata": {},
   "outputs": [],
   "source": [
    "class LLM:\n",
    "    def __init__(self, model: str = 'gpt-4.1'):\n",
    "        self.client = OpenAI()\n",
    "        self.model = model\n",
    "    \n",
    "        \n",
    "    def __call__(self, messages: Union[str, list[dict[str, str]]]):\n",
    "        if isinstance(messages, str):\n",
    "            messages = [{'role': 'user', 'content': messages}]\n",
    "        result = self.client.chat.completions.create(\n",
    "            model=self.model,\n",
    "            messages=messages,\n",
    "        )\n",
    "        return result.choices[0].message.content"
   ]
  },
  {
   "cell_type": "code",
   "execution_count": 64,
   "id": "899c7bec-e50c-44c6-b63a-1b6459c71cea",
   "metadata": {},
   "outputs": [],
   "source": [
    "llm = LLM()"
   ]
  },
  {
   "cell_type": "code",
   "execution_count": 65,
   "id": "e722fcf2-f982-4e04-ac57-23b29c2780ec",
   "metadata": {},
   "outputs": [
    {
     "data": {
      "text/plain": [
       "\"Hey! Not much, just here to help. What's up with you?\""
      ]
     },
     "execution_count": 65,
     "metadata": {},
     "output_type": "execute_result"
    }
   ],
   "source": [
    "llm('What up')"
   ]
  },
  {
   "cell_type": "markdown",
   "id": "4c2034d8-4239-40cd-9721-286f7ff2a100",
   "metadata": {},
   "source": [
    "## Web search (built-in openai tool)"
   ]
  },
  {
   "cell_type": "code",
   "execution_count": 122,
   "id": "103f572c-a444-4b1a-93cf-a93731c46e55",
   "metadata": {},
   "outputs": [
    {
     "name": "stdout",
     "output_type": "stream",
     "text": [
      "CPU times: user 11.4 ms, sys: 3.27 ms, total: 14.6 ms\n",
      "Wall time: 5.07 s\n"
     ]
    }
   ],
   "source": [
    "%%time\n",
    "response = llm.client.responses.create(\n",
    "    model=llm.model,\n",
    "    tools=[{\"type\": \"web_search_preview\"}],\n",
    "    input=\"When is the next UFC?\"\n",
    ")"
   ]
  },
  {
   "cell_type": "code",
   "execution_count": 123,
   "id": "84e51466-4888-4758-97b8-2434cbc3db95",
   "metadata": {},
   "outputs": [
    {
     "data": {
      "text/plain": [
       "{'input_tokens': 307,\n",
       " 'input_tokens_details': {'cached_tokens': 0},\n",
       " 'output_tokens': 335,\n",
       " 'output_tokens_details': {'reasoning_tokens': 0},\n",
       " 'total_tokens': 642}"
      ]
     },
     "execution_count": 123,
     "metadata": {},
     "output_type": "execute_result"
    }
   ],
   "source": [
    "response.usage.model_dump()"
   ]
  },
  {
   "cell_type": "code",
   "execution_count": 128,
   "id": "1caff0b8-aa4c-4187-821e-6e6cd5bebbdd",
   "metadata": {},
   "outputs": [
    {
     "name": "stdout",
     "output_type": "stream",
     "text": [
      "{\n",
      "   \"id\": \"resp_6883c544de2081a093db338a88be6e7e0d3ec13ef050dafb\",\n",
      "   \"created_at\": 1753466180.0,\n",
      "   \"error\": null,\n",
      "   \"incomplete_details\": null,\n",
      "   \"instructions\": null,\n",
      "   \"metadata\": {},\n",
      "   \"model\": \"gpt-4.1-2025-04-14\",\n",
      "   \"object\": \"response\",\n",
      "   \"output\": [\n",
      "      {\n",
      "         \"id\": \"ws_6883c54534d881a0b482deaa1bc686080d3ec13ef050dafb\",\n",
      "         \"action\": {\n",
      "            \"query\": \"next UFC event date\",\n",
      "            \"type\": \"search\"\n",
      "         },\n",
      "         \"status\": \"completed\",\n",
      "         \"type\": \"web_search_call\"\n",
      "      },\n",
      "      {\n",
      "         \"id\": \"msg_6883c546f11c81a08396d6e56782a0130d3ec13ef050dafb\",\n",
      "         \"content\": [\n",
      "            {\n",
      "               \"annotations\": [\n",
      "                  {\n",
      "                     \"end_index\": 289,\n",
      "                     \"start_index\": 172,\n",
      "                     \"title\": \"UFC Schedule: Upcoming cards, main events, host cities\",\n",
      "                     \"type\": \"url_citation\",\n",
      "                     \"url\": \"https://www.sportsnet.ca/ufc/ufc-schedule-upcoming-cards-main-events-host-cities/?utm_source=openai\"\n",
      "                  },\n",
      "                  {\n",
      "                     \"end_index\": 572,\n",
      "                     \"start_index\": 455,\n",
      "                     \"title\": \"UFC Schedule: Upcoming cards, main events, host cities\",\n",
      "                     \"type\": \"url_citation\",\n",
      "                     \"url\": \"https://www.sportsnet.ca/ufc/ufc-schedule-upcoming-cards-main-events-host-cities/?utm_source=openai\"\n",
      "                  },\n",
      "                  {\n",
      "                     \"end_index\": 1040,\n",
      "                     \"start_index\": 872,\n",
      "                     \"title\": \"Aspinall to defend UFC heavyweight title against Gane\",\n",
      "                     \"type\": \"url_citation\",\n",
      "                     \"url\": \"https://www.reuters.com/sports/aspinall-defend-ufc-heavyweight-title-against-gane-2025-07-23/?utm_source=openai\"\n",
      "                  },\n",
      "                  {\n",
      "                     \"end_index\": 1197,\n",
      "                     \"start_index\": 1043,\n",
      "                     \"title\": \"Adesanya se moja sobre UFC 319: \\\"Será caótico\\\"\",\n",
      "                     \"type\": \"url_citation\",\n",
      "                     \"url\": \"https://as.com/masdeporte/polideportivo/adesanya-se-moja-sobre-ufc-319-sera-caotico-n/?utm_source=openai\"\n",
      "                  }\n",
      "               ],\n",
      "               \"text\": \"The next UFC event is scheduled for Saturday, July 26, 2025, featuring a middleweight bout between Robert Whittaker and Reinier de Ridder at the Etihad Arena in Abu Dhabi. ([sportsnet.ca](https://www.sportsnet.ca/ufc/ufc-schedule-upcoming-cards-main-events-host-cities/?utm_source=openai))\\n\\nFollowing that, UFC 319 is set for August 16, 2025, at the United Center in Chicago, with a middleweight title fight between Dricus du Plessis and Khamzat Chimaev. ([sportsnet.ca](https://www.sportsnet.ca/ufc/ufc-schedule-upcoming-cards-main-events-host-cities/?utm_source=openai))\\n\\nFor viewers in the United States, UFC events are typically broadcast on ESPN and ESPN+, with pay-per-view options available for major events. Please check your local listings or the official UFC website for the most up-to-date broadcast information.\\n\\n\\n## Upcoming UFC Events and Fighter Updates:\\n- [Aspinall to defend UFC heavyweight title against Gane](https://www.reuters.com/sports/aspinall-defend-ufc-heavyweight-title-against-gane-2025-07-23/?utm_source=openai)\\n- [Adesanya se moja sobre UFC 319: \\\"Será caótico\\\"](https://as.com/masdeporte/polideportivo/adesanya-se-moja-sobre-ufc-319-sera-caotico-n/?utm_source=openai) \",\n",
      "               \"type\": \"output_text\",\n",
      "               \"logprobs\": []\n",
      "            }\n",
      "         ],\n",
      "         \"role\": \"assistant\",\n",
      "         \"status\": \"completed\",\n",
      "         \"type\": \"message\"\n",
      "      }\n",
      "   ],\n",
      "   \"parallel_tool_calls\": true,\n",
      "   \"temperature\": 1.0,\n",
      "   \"tool_choice\": \"auto\",\n",
      "   \"tools\": [\n",
      "      {\n",
      "         \"type\": \"web_search_preview\",\n",
      "         \"search_context_size\": \"medium\",\n",
      "         \"user_location\": {\n",
      "            \"type\": \"approximate\",\n",
      "            \"city\": null,\n",
      "            \"country\": \"US\",\n",
      "            \"region\": null,\n",
      "            \"timezone\": null\n",
      "         }\n",
      "      }\n",
      "   ],\n",
      "   \"top_p\": 1.0,\n",
      "   \"background\": false,\n",
      "   \"max_output_tokens\": null,\n",
      "   \"max_tool_calls\": null,\n",
      "   \"previous_response_id\": null,\n",
      "   \"prompt\": null,\n",
      "   \"reasoning\": {\n",
      "      \"effort\": null,\n",
      "      \"generate_summary\": null,\n",
      "      \"summary\": null\n",
      "   },\n",
      "   \"service_tier\": \"default\",\n",
      "   \"status\": \"completed\",\n",
      "   \"text\": {\n",
      "      \"format\": {\n",
      "         \"type\": \"text\"\n",
      "      }\n",
      "   },\n",
      "   \"top_logprobs\": 0,\n",
      "   \"truncation\": \"disabled\",\n",
      "   \"usage\": {\n",
      "      \"input_tokens\": 307,\n",
      "      \"input_tokens_details\": {\n",
      "         \"cached_tokens\": 0\n",
      "      },\n",
      "      \"output_tokens\": 335,\n",
      "      \"output_tokens_details\": {\n",
      "         \"reasoning_tokens\": 0\n",
      "      },\n",
      "      \"total_tokens\": 642\n",
      "   },\n",
      "   \"user\": null,\n",
      "   \"prompt_cache_key\": null,\n",
      "   \"safety_identifier\": null,\n",
      "   \"store\": false\n",
      "}\n"
     ]
    }
   ],
   "source": [
    "print(json.dumps(response.model_dump(), indent=3, ensure_ascii=False))"
   ]
  },
  {
   "cell_type": "code",
   "execution_count": 132,
   "id": "d58e382f-b079-4bb4-8292-f1b4971f7fa8",
   "metadata": {},
   "outputs": [
    {
     "data": {
      "text/plain": [
       "ResponseFunctionWebSearch(id='ws_6883c54534d881a0b482deaa1bc686080d3ec13ef050dafb', action=ActionSearch(query='next UFC event date', type='search'), status='completed', type='web_search_call')"
      ]
     },
     "execution_count": 132,
     "metadata": {},
     "output_type": "execute_result"
    }
   ],
   "source": [
    "response.output[0]"
   ]
  },
  {
   "cell_type": "code",
   "execution_count": 133,
   "id": "470624a0-b9be-4a8a-ae9d-3885c6555b14",
   "metadata": {},
   "outputs": [
    {
     "data": {
      "text/plain": [
       "ResponseOutputMessage(id='msg_6883c546f11c81a08396d6e56782a0130d3ec13ef050dafb', content=[ResponseOutputText(annotations=[AnnotationURLCitation(end_index=289, start_index=172, title='UFC Schedule: Upcoming cards, main events, host cities', type='url_citation', url='https://www.sportsnet.ca/ufc/ufc-schedule-upcoming-cards-main-events-host-cities/?utm_source=openai'), AnnotationURLCitation(end_index=572, start_index=455, title='UFC Schedule: Upcoming cards, main events, host cities', type='url_citation', url='https://www.sportsnet.ca/ufc/ufc-schedule-upcoming-cards-main-events-host-cities/?utm_source=openai'), AnnotationURLCitation(end_index=1040, start_index=872, title='Aspinall to defend UFC heavyweight title against Gane', type='url_citation', url='https://www.reuters.com/sports/aspinall-defend-ufc-heavyweight-title-against-gane-2025-07-23/?utm_source=openai'), AnnotationURLCitation(end_index=1197, start_index=1043, title='Adesanya se moja sobre UFC 319: \"Será caótico\"', type='url_citation', url='https://as.com/masdeporte/polideportivo/adesanya-se-moja-sobre-ufc-319-sera-caotico-n/?utm_source=openai')], text='The next UFC event is scheduled for Saturday, July 26, 2025, featuring a middleweight bout between Robert Whittaker and Reinier de Ridder at the Etihad Arena in Abu Dhabi. ([sportsnet.ca](https://www.sportsnet.ca/ufc/ufc-schedule-upcoming-cards-main-events-host-cities/?utm_source=openai))\\n\\nFollowing that, UFC 319 is set for August 16, 2025, at the United Center in Chicago, with a middleweight title fight between Dricus du Plessis and Khamzat Chimaev. ([sportsnet.ca](https://www.sportsnet.ca/ufc/ufc-schedule-upcoming-cards-main-events-host-cities/?utm_source=openai))\\n\\nFor viewers in the United States, UFC events are typically broadcast on ESPN and ESPN+, with pay-per-view options available for major events. Please check your local listings or the official UFC website for the most up-to-date broadcast information.\\n\\n\\n## Upcoming UFC Events and Fighter Updates:\\n- [Aspinall to defend UFC heavyweight title against Gane](https://www.reuters.com/sports/aspinall-defend-ufc-heavyweight-title-against-gane-2025-07-23/?utm_source=openai)\\n- [Adesanya se moja sobre UFC 319: \"Será caótico\"](https://as.com/masdeporte/polideportivo/adesanya-se-moja-sobre-ufc-319-sera-caotico-n/?utm_source=openai) ', type='output_text', logprobs=[])], role='assistant', status='completed', type='message')"
      ]
     },
     "execution_count": 133,
     "metadata": {},
     "output_type": "execute_result"
    }
   ],
   "source": [
    "response.output[1]"
   ]
  },
  {
   "cell_type": "code",
   "execution_count": 135,
   "id": "ec879ba5-e7fd-460f-baf5-4796f7cba70a",
   "metadata": {},
   "outputs": [
    {
     "data": {
      "text/markdown": [
       "The next UFC event is scheduled for Saturday, July 26, 2025, featuring a middleweight bout between Robert Whittaker and Reinier de Ridder at the Etihad Arena in Abu Dhabi. ([sportsnet.ca](https://www.sportsnet.ca/ufc/ufc-schedule-upcoming-cards-main-events-host-cities/?utm_source=openai))\n",
       "\n",
       "Following that, UFC 319 is set for August 16, 2025, at the United Center in Chicago, with a middleweight title fight between Dricus du Plessis and Khamzat Chimaev. ([sportsnet.ca](https://www.sportsnet.ca/ufc/ufc-schedule-upcoming-cards-main-events-host-cities/?utm_source=openai))\n",
       "\n",
       "For viewers in the United States, UFC events are typically broadcast on ESPN and ESPN+, with pay-per-view options available for major events. Please check your local listings or the official UFC website for the most up-to-date broadcast information.\n",
       "\n",
       "\n",
       "## Upcoming UFC Events and Fighter Updates:\n",
       "- [Aspinall to defend UFC heavyweight title against Gane](https://www.reuters.com/sports/aspinall-defend-ufc-heavyweight-title-against-gane-2025-07-23/?utm_source=openai)\n",
       "- [Adesanya se moja sobre UFC 319: \"Será caótico\"](https://as.com/masdeporte/polideportivo/adesanya-se-moja-sobre-ufc-319-sera-caotico-n/?utm_source=openai) "
      ],
      "text/plain": [
       "<IPython.core.display.Markdown object>"
      ]
     },
     "metadata": {},
     "output_type": "display_data"
    }
   ],
   "source": [
    "display(Markdown(response.output[1].content[0].text))"
   ]
  },
  {
   "cell_type": "code",
   "execution_count": 142,
   "id": "f1e7840f-2e1e-4a81-81f8-ac11f3b17726",
   "metadata": {},
   "outputs": [
    {
     "data": {
      "text/plain": [
       "[AnnotationURLCitation(end_index=289, start_index=172, title='UFC Schedule: Upcoming cards, main events, host cities', type='url_citation', url='https://www.sportsnet.ca/ufc/ufc-schedule-upcoming-cards-main-events-host-cities/?utm_source=openai'),\n",
       " AnnotationURLCitation(end_index=572, start_index=455, title='UFC Schedule: Upcoming cards, main events, host cities', type='url_citation', url='https://www.sportsnet.ca/ufc/ufc-schedule-upcoming-cards-main-events-host-cities/?utm_source=openai'),\n",
       " AnnotationURLCitation(end_index=1040, start_index=872, title='Aspinall to defend UFC heavyweight title against Gane', type='url_citation', url='https://www.reuters.com/sports/aspinall-defend-ufc-heavyweight-title-against-gane-2025-07-23/?utm_source=openai'),\n",
       " AnnotationURLCitation(end_index=1197, start_index=1043, title='Adesanya se moja sobre UFC 319: \"Será caótico\"', type='url_citation', url='https://as.com/masdeporte/polideportivo/adesanya-se-moja-sobre-ufc-319-sera-caotico-n/?utm_source=openai')]"
      ]
     },
     "execution_count": 142,
     "metadata": {},
     "output_type": "execute_result"
    }
   ],
   "source": [
    "response.output[1].content[0].annotations"
   ]
  },
  {
   "cell_type": "code",
   "execution_count": 146,
   "id": "0c26a4db-f2c6-414b-b951-3ef212f031d9",
   "metadata": {},
   "outputs": [
    {
     "data": {
      "text/plain": [
       "openai.types.responses.web_search_tool.WebSearchTool"
      ]
     },
     "execution_count": 146,
     "metadata": {},
     "output_type": "execute_result"
    }
   ],
   "source": [
    "tool = response.tools[0]\n",
    "type(tool)"
   ]
  },
  {
   "cell_type": "markdown",
   "id": "41e7e66d-cb60-4710-ba59-f3ae9fc993d8",
   "metadata": {},
   "source": [
    "## Function calling tool\n",
    "Probably the most useful tool of letting LLM to decide to use your own function."
   ]
  },
  {
   "cell_type": "code",
   "execution_count": 148,
   "id": "9f3e47b8-68be-4493-a63e-6220b28e9201",
   "metadata": {},
   "outputs": [],
   "source": [
    "tools = [{\n",
    "    \"type\": \"function\",\n",
    "    \"name\": \"get_weather\",\n",
    "    \"description\": \"Get current temperature for a given location.\",\n",
    "    \"parameters\": {\n",
    "        \"type\": \"object\",\n",
    "        \"properties\": {\n",
    "            \"location\": {\n",
    "                \"type\": \"string\",\n",
    "                \"description\": \"City and country e.g. Bogotá, Colombia\"\n",
    "            }\n",
    "        },\n",
    "        \"required\": [\n",
    "            \"location\"\n",
    "        ],\n",
    "        \"additionalProperties\": False\n",
    "    }\n",
    "}]"
   ]
  },
  {
   "cell_type": "code",
   "execution_count": 149,
   "id": "3ff51d2b-e932-467c-9254-b923a39868f3",
   "metadata": {},
   "outputs": [
    {
     "name": "stdout",
     "output_type": "stream",
     "text": [
      "CPU times: user 14.5 ms, sys: 3.46 ms, total: 17.9 ms\n",
      "Wall time: 823 ms\n"
     ]
    }
   ],
   "source": [
    "%%time\n",
    "response = llm.client.responses.create(\n",
    "    model=llm.model,\n",
    "    tools=tools,\n",
    "    input=\"What is the weather in Warsaw, Poland\"\n",
    ")"
   ]
  },
  {
   "cell_type": "code",
   "execution_count": 152,
   "id": "b9c1209a-a1c5-4d4b-8748-54556962b46f",
   "metadata": {},
   "outputs": [
    {
     "data": {
      "text/plain": [
       "1"
      ]
     },
     "execution_count": 152,
     "metadata": {},
     "output_type": "execute_result"
    }
   ],
   "source": [
    "len(response.output)"
   ]
  },
  {
   "cell_type": "code",
   "execution_count": 158,
   "id": "0bf1abbe-1fb2-4516-8182-6707aa68a9ef",
   "metadata": {},
   "outputs": [
    {
     "data": {
      "text/plain": [
       "ResponseFunctionToolCall(arguments='{\"location\":\"Warsaw, Poland\"}', call_id='call_r7WXRGTjLwlVZIqz8I1cowag', name='get_weather', type='function_call', id='fc_6883ca544170819facff23dac0c8d87205829bb588582655', status='completed')"
      ]
     },
     "execution_count": 158,
     "metadata": {},
     "output_type": "execute_result"
    }
   ],
   "source": [
    "function_call_response = response.output[0]\n",
    "function_call_response"
   ]
  },
  {
   "cell_type": "code",
   "execution_count": 159,
   "id": "f01d3a69-a526-4ab5-a392-17455fd0e036",
   "metadata": {},
   "outputs": [],
   "source": [
    "def get_weather(location: str):\n",
    "    return f\"Weather in {location} is {random.randint(0, 40)} °C\""
   ]
  },
  {
   "cell_type": "code",
   "execution_count": 160,
   "id": "9c213b28-dbbd-4c60-af29-ac82c95c4989",
   "metadata": {},
   "outputs": [],
   "source": [
    "functions = {\n",
    "    'get_weather': get_weather\n",
    "}"
   ]
  },
  {
   "cell_type": "code",
   "execution_count": 163,
   "id": "f749cdce-f556-4101-827b-2c994319d53d",
   "metadata": {},
   "outputs": [
    {
     "data": {
      "text/plain": [
       "'{\"location\":\"Warsaw, Poland\"}'"
      ]
     },
     "execution_count": 163,
     "metadata": {},
     "output_type": "execute_result"
    }
   ],
   "source": [
    "function_call_response.arguments"
   ]
  },
  {
   "cell_type": "code",
   "execution_count": 166,
   "id": "1714aca5-e3bd-4175-8c54-384ce6ac0f3b",
   "metadata": {},
   "outputs": [
    {
     "data": {
      "text/plain": [
       "'Weather in Warsaw, Poland is 23 °C'"
      ]
     },
     "execution_count": 166,
     "metadata": {},
     "output_type": "execute_result"
    }
   ],
   "source": [
    "functions[function_call_response.name](**json.loads(function_call_response.arguments))"
   ]
  }
 ],
 "metadata": {
  "kernelspec": {
   "display_name": "Python 3 (ipykernel)",
   "language": "python",
   "name": "python3"
  },
  "language_info": {
   "codemirror_mode": {
    "name": "ipython",
    "version": 3
   },
   "file_extension": ".py",
   "mimetype": "text/x-python",
   "name": "python",
   "nbconvert_exporter": "python",
   "pygments_lexer": "ipython3",
   "version": "3.9.13"
  }
 },
 "nbformat": 4,
 "nbformat_minor": 5
}
