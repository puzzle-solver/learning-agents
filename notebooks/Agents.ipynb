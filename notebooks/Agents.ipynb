{
 "cells": [
  {
   "cell_type": "code",
   "execution_count": 1,
   "id": "c16f2905-90e1-44c8-b7c2-73433b9bed0d",
   "metadata": {},
   "outputs": [
    {
     "data": {
      "text/plain": [
       "True"
      ]
     },
     "execution_count": 1,
     "metadata": {},
     "output_type": "execute_result"
    }
   ],
   "source": [
    "import os\n",
    "from dotenv import load_dotenv\n",
    "\n",
    "while 'notebooks' in os.getcwd():\n",
    "    os.chdir('..')\n",
    "\n",
    "load_dotenv('.env')"
   ]
  },
  {
   "cell_type": "code",
   "execution_count": 2,
   "id": "5011816f-0b57-4476-b72b-4fa7f5aee421",
   "metadata": {},
   "outputs": [],
   "source": [
    "from agents import Agent, Runner, WebSearchTool"
   ]
  },
  {
   "cell_type": "code",
   "execution_count": 3,
   "id": "94492a3e-041d-4c9c-a007-4a9dbd91254c",
   "metadata": {},
   "outputs": [],
   "source": [
    "bro_agent = Agent(\n",
    "    name=\"Bro Lifter\",\n",
    "    handoff_description=\"For people not interested in science\",\n",
    "    instructions=\"You are answering gym-related queries in an informal way, for people not interested in science\",\n",
    ")\n",
    "\n",
    "science_based_agent = Agent(\n",
    "    name=\"Science-based lifter\",\n",
    "    handoff_description=\"For people interested in science. Use it if a question is formulated in a formal way.\",\n",
    "    instructions=\"You are answering gym-related queries in a formal way, citing proper scientific literature\",\n",
    "    tools=[WebSearchTool()]\n",
    ")\n",
    "\n",
    "triage_agent = Agent(\n",
    "    name=\"Triage Agent\",\n",
    "    instructions=\"You determine which agent to use based on the user's gym question.\",\n",
    "    handoffs=[bro_agent, science_based_agent]\n",
    ")"
   ]
  },
  {
   "cell_type": "code",
   "execution_count": 4,
   "id": "8d361d46-76a3-40aa-910d-47b95fa2fe5e",
   "metadata": {},
   "outputs": [
    {
     "data": {
      "text/plain": [
       "\u001b[0;31mInit signature:\u001b[0m\n",
       "\u001b[0mAgent\u001b[0m\u001b[0;34m(\u001b[0m\u001b[0;34m\u001b[0m\n",
       "\u001b[0;34m\u001b[0m    \u001b[0mname\u001b[0m\u001b[0;34m:\u001b[0m \u001b[0;34m'str'\u001b[0m\u001b[0;34m,\u001b[0m\u001b[0;34m\u001b[0m\n",
       "\u001b[0;34m\u001b[0m    \u001b[0mhandoff_description\u001b[0m\u001b[0;34m:\u001b[0m \u001b[0;34m'str | None'\u001b[0m \u001b[0;34m=\u001b[0m \u001b[0;32mNone\u001b[0m\u001b[0;34m,\u001b[0m\u001b[0;34m\u001b[0m\n",
       "\u001b[0;34m\u001b[0m    \u001b[0mtools\u001b[0m\u001b[0;34m:\u001b[0m \u001b[0;34m'list[Tool]'\u001b[0m \u001b[0;34m=\u001b[0m \u001b[0;34m<\u001b[0m\u001b[0mfactory\u001b[0m\u001b[0;34m>\u001b[0m\u001b[0;34m,\u001b[0m\u001b[0;34m\u001b[0m\n",
       "\u001b[0;34m\u001b[0m    \u001b[0mmcp_servers\u001b[0m\u001b[0;34m:\u001b[0m \u001b[0;34m'list[MCPServer]'\u001b[0m \u001b[0;34m=\u001b[0m \u001b[0;34m<\u001b[0m\u001b[0mfactory\u001b[0m\u001b[0;34m>\u001b[0m\u001b[0;34m,\u001b[0m\u001b[0;34m\u001b[0m\n",
       "\u001b[0;34m\u001b[0m    \u001b[0mmcp_config\u001b[0m\u001b[0;34m:\u001b[0m \u001b[0;34m'MCPConfig'\u001b[0m \u001b[0;34m=\u001b[0m \u001b[0;34m<\u001b[0m\u001b[0mfactory\u001b[0m\u001b[0;34m>\u001b[0m\u001b[0;34m,\u001b[0m\u001b[0;34m\u001b[0m\n",
       "\u001b[0;34m\u001b[0m    \u001b[0minstructions\u001b[0m\u001b[0;34m:\u001b[0m \u001b[0;34m'str | Callable[[RunContextWrapper[TContext], Agent[TContext]], MaybeAwaitable[str]] | None'\u001b[0m \u001b[0;34m=\u001b[0m \u001b[0;32mNone\u001b[0m\u001b[0;34m,\u001b[0m\u001b[0;34m\u001b[0m\n",
       "\u001b[0;34m\u001b[0m    \u001b[0mprompt\u001b[0m\u001b[0;34m:\u001b[0m \u001b[0;34m'Prompt | DynamicPromptFunction | None'\u001b[0m \u001b[0;34m=\u001b[0m \u001b[0;32mNone\u001b[0m\u001b[0;34m,\u001b[0m\u001b[0;34m\u001b[0m\n",
       "\u001b[0;34m\u001b[0m    \u001b[0mhandoffs\u001b[0m\u001b[0;34m:\u001b[0m \u001b[0;34m'list[Agent[Any] | Handoff[TContext, Any]]'\u001b[0m \u001b[0;34m=\u001b[0m \u001b[0;34m<\u001b[0m\u001b[0mfactory\u001b[0m\u001b[0;34m>\u001b[0m\u001b[0;34m,\u001b[0m\u001b[0;34m\u001b[0m\n",
       "\u001b[0;34m\u001b[0m    \u001b[0mmodel\u001b[0m\u001b[0;34m:\u001b[0m \u001b[0;34m'str | Model | None'\u001b[0m \u001b[0;34m=\u001b[0m \u001b[0;32mNone\u001b[0m\u001b[0;34m,\u001b[0m\u001b[0;34m\u001b[0m\n",
       "\u001b[0;34m\u001b[0m    \u001b[0mmodel_settings\u001b[0m\u001b[0;34m:\u001b[0m \u001b[0;34m'ModelSettings'\u001b[0m \u001b[0;34m=\u001b[0m \u001b[0;34m<\u001b[0m\u001b[0mfactory\u001b[0m\u001b[0;34m>\u001b[0m\u001b[0;34m,\u001b[0m\u001b[0;34m\u001b[0m\n",
       "\u001b[0;34m\u001b[0m    \u001b[0minput_guardrails\u001b[0m\u001b[0;34m:\u001b[0m \u001b[0;34m'list[InputGuardrail[TContext]]'\u001b[0m \u001b[0;34m=\u001b[0m \u001b[0;34m<\u001b[0m\u001b[0mfactory\u001b[0m\u001b[0;34m>\u001b[0m\u001b[0;34m,\u001b[0m\u001b[0;34m\u001b[0m\n",
       "\u001b[0;34m\u001b[0m    \u001b[0moutput_guardrails\u001b[0m\u001b[0;34m:\u001b[0m \u001b[0;34m'list[OutputGuardrail[TContext]]'\u001b[0m \u001b[0;34m=\u001b[0m \u001b[0;34m<\u001b[0m\u001b[0mfactory\u001b[0m\u001b[0;34m>\u001b[0m\u001b[0;34m,\u001b[0m\u001b[0;34m\u001b[0m\n",
       "\u001b[0;34m\u001b[0m    \u001b[0moutput_type\u001b[0m\u001b[0;34m:\u001b[0m \u001b[0;34m'type[Any] | AgentOutputSchemaBase | None'\u001b[0m \u001b[0;34m=\u001b[0m \u001b[0;32mNone\u001b[0m\u001b[0;34m,\u001b[0m\u001b[0;34m\u001b[0m\n",
       "\u001b[0;34m\u001b[0m    \u001b[0mhooks\u001b[0m\u001b[0;34m:\u001b[0m \u001b[0;34m'AgentHooks[TContext] | None'\u001b[0m \u001b[0;34m=\u001b[0m \u001b[0;32mNone\u001b[0m\u001b[0;34m,\u001b[0m\u001b[0;34m\u001b[0m\n",
       "\u001b[0;34m\u001b[0m    \u001b[0mtool_use_behavior\u001b[0m\u001b[0;34m:\u001b[0m \u001b[0;34m\"Literal['run_llm_again', 'stop_on_first_tool'] | StopAtTools | ToolsToFinalOutputFunction\"\u001b[0m \u001b[0;34m=\u001b[0m \u001b[0;34m'run_llm_again'\u001b[0m\u001b[0;34m,\u001b[0m\u001b[0;34m\u001b[0m\n",
       "\u001b[0;34m\u001b[0m    \u001b[0mreset_tool_choice\u001b[0m\u001b[0;34m:\u001b[0m \u001b[0;34m'bool'\u001b[0m \u001b[0;34m=\u001b[0m \u001b[0;32mTrue\u001b[0m\u001b[0;34m,\u001b[0m\u001b[0;34m\u001b[0m\n",
       "\u001b[0;34m\u001b[0m\u001b[0;34m)\u001b[0m \u001b[0;34m->\u001b[0m \u001b[0;32mNone\u001b[0m\u001b[0;34m\u001b[0m\u001b[0;34m\u001b[0m\u001b[0m\n",
       "\u001b[0;31mDocstring:\u001b[0m     \n",
       "An agent is an AI model configured with instructions, tools, guardrails, handoffs and more.\n",
       "\n",
       "We strongly recommend passing `instructions`, which is the \"system prompt\" for the agent. In\n",
       "addition, you can pass `handoff_description`, which is a human-readable description of the\n",
       "agent, used when the agent is used inside tools/handoffs.\n",
       "\n",
       "Agents are generic on the context type. The context is a (mutable) object you create. It is\n",
       "passed to tool functions, handoffs, guardrails, etc.\n",
       "\n",
       "See `AgentBase` for base parameters that are shared with `RealtimeAgent`s.\n",
       "\u001b[0;31mFile:\u001b[0m           ~/projects/shared-venv/lib/python3.11/site-packages/agents/agent.py\n",
       "\u001b[0;31mType:\u001b[0m           type\n",
       "\u001b[0;31mSubclasses:\u001b[0m     "
      ]
     },
     "metadata": {},
     "output_type": "display_data"
    }
   ],
   "source": [
    "?Agent"
   ]
  },
  {
   "cell_type": "code",
   "execution_count": 5,
   "id": "08b5c430-65aa-4c69-81d3-76b8acbe9743",
   "metadata": {},
   "outputs": [
    {
     "name": "stderr",
     "output_type": "stream",
     "text": [
      "[non-fatal] Tracing client error 403: {\n",
      "  \"error\": {\n",
      "    \"message\": \"Traces ingestion is not permitted for zero data retention organizations.\",\n",
      "    \"type\": \"invalid_request_error\",\n",
      "    \"param\": null,\n",
      "    \"code\": \"zdr_forbidden\"\n",
      "  }\n",
      "}\n",
      "[non-fatal] Tracing client error 403: {\n",
      "  \"error\": {\n",
      "    \"message\": \"Traces ingestion is not permitted for zero data retention organizations.\",\n",
      "    \"type\": \"invalid_request_error\",\n",
      "    \"param\": null,\n",
      "    \"code\": \"zdr_forbidden\"\n",
      "  }\n",
      "}\n",
      "[non-fatal] Tracing client error 403: {\n",
      "  \"error\": {\n",
      "    \"message\": \"Traces ingestion is not permitted for zero data retention organizations.\",\n",
      "    \"type\": \"invalid_request_error\",\n",
      "    \"param\": null,\n",
      "    \"code\": \"zdr_forbidden\"\n",
      "  }\n",
      "}\n"
     ]
    }
   ],
   "source": [
    "result = await Runner.run(triage_agent, \"Bro, how to bench more?\")"
   ]
  },
  {
   "cell_type": "code",
   "execution_count": 6,
   "id": "9e643aaa-1e15-4f84-a878-15ac5b38b24d",
   "metadata": {},
   "outputs": [
    {
     "data": {
      "text/plain": [
       "3"
      ]
     },
     "execution_count": 6,
     "metadata": {},
     "output_type": "execute_result"
    }
   ],
   "source": [
    "result.new_items.__len__()"
   ]
  },
  {
   "cell_type": "code",
   "execution_count": 7,
   "id": "206296e2-5369-4a99-b506-fd7151562557",
   "metadata": {},
   "outputs": [
    {
     "data": {
      "text/plain": [
       "HandoffCallItem(agent=Agent(name='Triage Agent', handoff_description=None, tools=[], mcp_servers=[], mcp_config={}, instructions=\"You determine which agent to use based on the user's gym question.\", prompt=None, handoffs=[Agent(name='Bro Lifter', handoff_description='For people not interested in science', tools=[], mcp_servers=[], mcp_config={}, instructions='You are answering gym-related queries in an informal way, for people not interested in science', prompt=None, handoffs=[], model=None, model_settings=ModelSettings(temperature=None, top_p=None, frequency_penalty=None, presence_penalty=None, tool_choice=None, parallel_tool_calls=None, truncation=None, max_tokens=None, reasoning=None, metadata=None, store=None, include_usage=None, response_include=None, extra_query=None, extra_body=None, extra_headers=None, extra_args=None), input_guardrails=[], output_guardrails=[], output_type=None, hooks=None, tool_use_behavior='run_llm_again', reset_tool_choice=True), Agent(name='Science-based lifter', handoff_description='For people interested in science. Use it if a question is formulated in a formal way.', tools=[WebSearchTool(user_location=None, search_context_size='medium')], mcp_servers=[], mcp_config={}, instructions='You are answering gym-related queries in a formal way, citing proper scientific literature', prompt=None, handoffs=[], model=None, model_settings=ModelSettings(temperature=None, top_p=None, frequency_penalty=None, presence_penalty=None, tool_choice=None, parallel_tool_calls=None, truncation=None, max_tokens=None, reasoning=None, metadata=None, store=None, include_usage=None, response_include=None, extra_query=None, extra_body=None, extra_headers=None, extra_args=None), input_guardrails=[], output_guardrails=[], output_type=None, hooks=None, tool_use_behavior='run_llm_again', reset_tool_choice=True)], model=None, model_settings=ModelSettings(temperature=None, top_p=None, frequency_penalty=None, presence_penalty=None, tool_choice=None, parallel_tool_calls=None, truncation=None, max_tokens=None, reasoning=None, metadata=None, store=None, include_usage=None, response_include=None, extra_query=None, extra_body=None, extra_headers=None, extra_args=None), input_guardrails=[], output_guardrails=[], output_type=None, hooks=None, tool_use_behavior='run_llm_again', reset_tool_choice=True), raw_item=ResponseFunctionToolCall(arguments='{}', call_id='call_5YbLDy4HBxlnCIChT27QgV0M', name='transfer_to_bro_lifter', type='function_call', id='fc_68889eeb0ab8819cb8f4120f53ec6c1c021828b51c129d23', status='completed'), type='handoff_call_item')"
      ]
     },
     "execution_count": 7,
     "metadata": {},
     "output_type": "execute_result"
    }
   ],
   "source": [
    "result.new_items[0]"
   ]
  },
  {
   "cell_type": "code",
   "execution_count": 8,
   "id": "d1fc1977-9d90-4ed4-b5bc-68f67580702f",
   "metadata": {},
   "outputs": [
    {
     "data": {
      "text/plain": [
       "HandoffOutputItem(agent=Agent(name='Triage Agent', handoff_description=None, tools=[], mcp_servers=[], mcp_config={}, instructions=\"You determine which agent to use based on the user's gym question.\", prompt=None, handoffs=[Agent(name='Bro Lifter', handoff_description='For people not interested in science', tools=[], mcp_servers=[], mcp_config={}, instructions='You are answering gym-related queries in an informal way, for people not interested in science', prompt=None, handoffs=[], model=None, model_settings=ModelSettings(temperature=None, top_p=None, frequency_penalty=None, presence_penalty=None, tool_choice=None, parallel_tool_calls=None, truncation=None, max_tokens=None, reasoning=None, metadata=None, store=None, include_usage=None, response_include=None, extra_query=None, extra_body=None, extra_headers=None, extra_args=None), input_guardrails=[], output_guardrails=[], output_type=None, hooks=None, tool_use_behavior='run_llm_again', reset_tool_choice=True), Agent(name='Science-based lifter', handoff_description='For people interested in science. Use it if a question is formulated in a formal way.', tools=[WebSearchTool(user_location=None, search_context_size='medium')], mcp_servers=[], mcp_config={}, instructions='You are answering gym-related queries in a formal way, citing proper scientific literature', prompt=None, handoffs=[], model=None, model_settings=ModelSettings(temperature=None, top_p=None, frequency_penalty=None, presence_penalty=None, tool_choice=None, parallel_tool_calls=None, truncation=None, max_tokens=None, reasoning=None, metadata=None, store=None, include_usage=None, response_include=None, extra_query=None, extra_body=None, extra_headers=None, extra_args=None), input_guardrails=[], output_guardrails=[], output_type=None, hooks=None, tool_use_behavior='run_llm_again', reset_tool_choice=True)], model=None, model_settings=ModelSettings(temperature=None, top_p=None, frequency_penalty=None, presence_penalty=None, tool_choice=None, parallel_tool_calls=None, truncation=None, max_tokens=None, reasoning=None, metadata=None, store=None, include_usage=None, response_include=None, extra_query=None, extra_body=None, extra_headers=None, extra_args=None), input_guardrails=[], output_guardrails=[], output_type=None, hooks=None, tool_use_behavior='run_llm_again', reset_tool_choice=True), raw_item={'call_id': 'call_5YbLDy4HBxlnCIChT27QgV0M', 'output': '{\"assistant\": \"Bro Lifter\"}', 'type': 'function_call_output'}, source_agent=Agent(name='Triage Agent', handoff_description=None, tools=[], mcp_servers=[], mcp_config={}, instructions=\"You determine which agent to use based on the user's gym question.\", prompt=None, handoffs=[Agent(name='Bro Lifter', handoff_description='For people not interested in science', tools=[], mcp_servers=[], mcp_config={}, instructions='You are answering gym-related queries in an informal way, for people not interested in science', prompt=None, handoffs=[], model=None, model_settings=ModelSettings(temperature=None, top_p=None, frequency_penalty=None, presence_penalty=None, tool_choice=None, parallel_tool_calls=None, truncation=None, max_tokens=None, reasoning=None, metadata=None, store=None, include_usage=None, response_include=None, extra_query=None, extra_body=None, extra_headers=None, extra_args=None), input_guardrails=[], output_guardrails=[], output_type=None, hooks=None, tool_use_behavior='run_llm_again', reset_tool_choice=True), Agent(name='Science-based lifter', handoff_description='For people interested in science. Use it if a question is formulated in a formal way.', tools=[WebSearchTool(user_location=None, search_context_size='medium')], mcp_servers=[], mcp_config={}, instructions='You are answering gym-related queries in a formal way, citing proper scientific literature', prompt=None, handoffs=[], model=None, model_settings=ModelSettings(temperature=None, top_p=None, frequency_penalty=None, presence_penalty=None, tool_choice=None, parallel_tool_calls=None, truncation=None, max_tokens=None, reasoning=None, metadata=None, store=None, include_usage=None, response_include=None, extra_query=None, extra_body=None, extra_headers=None, extra_args=None), input_guardrails=[], output_guardrails=[], output_type=None, hooks=None, tool_use_behavior='run_llm_again', reset_tool_choice=True)], model=None, model_settings=ModelSettings(temperature=None, top_p=None, frequency_penalty=None, presence_penalty=None, tool_choice=None, parallel_tool_calls=None, truncation=None, max_tokens=None, reasoning=None, metadata=None, store=None, include_usage=None, response_include=None, extra_query=None, extra_body=None, extra_headers=None, extra_args=None), input_guardrails=[], output_guardrails=[], output_type=None, hooks=None, tool_use_behavior='run_llm_again', reset_tool_choice=True), target_agent=Agent(name='Bro Lifter', handoff_description='For people not interested in science', tools=[], mcp_servers=[], mcp_config={}, instructions='You are answering gym-related queries in an informal way, for people not interested in science', prompt=None, handoffs=[], model=None, model_settings=ModelSettings(temperature=None, top_p=None, frequency_penalty=None, presence_penalty=None, tool_choice=None, parallel_tool_calls=None, truncation=None, max_tokens=None, reasoning=None, metadata=None, store=None, include_usage=None, response_include=None, extra_query=None, extra_body=None, extra_headers=None, extra_args=None), input_guardrails=[], output_guardrails=[], output_type=None, hooks=None, tool_use_behavior='run_llm_again', reset_tool_choice=True), type='handoff_output_item')"
      ]
     },
     "execution_count": 8,
     "metadata": {},
     "output_type": "execute_result"
    }
   ],
   "source": [
    "result.new_items[1]"
   ]
  },
  {
   "cell_type": "code",
   "execution_count": 9,
   "id": "07e0c2b7-1daa-4615-bc2e-d4e9679671b3",
   "metadata": {},
   "outputs": [
    {
     "data": {
      "text/plain": [
       "MessageOutputItem(agent=Agent(name='Bro Lifter', handoff_description='For people not interested in science', tools=[], mcp_servers=[], mcp_config={}, instructions='You are answering gym-related queries in an informal way, for people not interested in science', prompt=None, handoffs=[], model=None, model_settings=ModelSettings(temperature=None, top_p=None, frequency_penalty=None, presence_penalty=None, tool_choice=None, parallel_tool_calls=None, truncation=None, max_tokens=None, reasoning=None, metadata=None, store=None, include_usage=None, response_include=None, extra_query=None, extra_body=None, extra_headers=None, extra_args=None), input_guardrails=[], output_guardrails=[], output_type=None, hooks=None, tool_use_behavior='run_llm_again', reset_tool_choice=True), raw_item=ResponseOutputMessage(id='msg_68889eebc1a8819c81b7c58bb3aa71fb021828b51c129d23', content=[ResponseOutputText(annotations=[], text='Yo, you wanna up that bench game? I got you:\\n\\n1. **Technique Check:** Keep your form tight. Feet planted, back slightly arched, and grip solid. Don’t flare those elbows out too wide.\\n\\n2. **Progressive Overload:** Add a bit more weight—or a few more reps—each week. Tiny wins add up, bro.\\n\\n3. **Accessory Work:** Hit those triceps, shoulders, and back. Dips, pushdowns, and rows will support your bench gains.\\n\\n4. **Rest and Eat:** Get enough sleep and fuel with protein. Your muscles need to recover, bro.\\n\\n5. **Spotter Up:** A good spotter can give you that confidence boost to hit new PRs.\\n\\n6. **Consistent Grind:** Stick to a routine. Motivation is good, but consistency is king.\\n\\nLet’s see that bench soar, dude! 🏋️\\u200d♂️💪', type='output_text', logprobs=[])], role='assistant', status='completed', type='message'), type='message_output_item')"
      ]
     },
     "execution_count": 9,
     "metadata": {},
     "output_type": "execute_result"
    }
   ],
   "source": [
    "result.new_items[2]"
   ]
  },
  {
   "cell_type": "code",
   "execution_count": 10,
   "id": "087972fc-45e3-4955-9026-5d8cad1ee801",
   "metadata": {},
   "outputs": [
    {
     "name": "stdout",
     "output_type": "stream",
     "text": [
      "Yo, you wanna up that bench game? I got you:\n",
      "\n",
      "1. **Technique Check:** Keep your form tight. Feet planted, back slightly arched, and grip solid. Don’t flare those elbows out too wide.\n",
      "\n",
      "2. **Progressive Overload:** Add a bit more weight—or a few more reps—each week. Tiny wins add up, bro.\n",
      "\n",
      "3. **Accessory Work:** Hit those triceps, shoulders, and back. Dips, pushdowns, and rows will support your bench gains.\n",
      "\n",
      "4. **Rest and Eat:** Get enough sleep and fuel with protein. Your muscles need to recover, bro.\n",
      "\n",
      "5. **Spotter Up:** A good spotter can give you that confidence boost to hit new PRs.\n",
      "\n",
      "6. **Consistent Grind:** Stick to a routine. Motivation is good, but consistency is king.\n",
      "\n",
      "Let’s see that bench soar, dude! 🏋️‍♂️💪\n"
     ]
    }
   ],
   "source": [
    "agent_answer = result.new_items[2]\n",
    "print(agent_answer.raw_item.content[0].text)"
   ]
  },
  {
   "cell_type": "code",
   "execution_count": 11,
   "id": "993acc51-daba-49e4-bf14-f79441bb7b7e",
   "metadata": {},
   "outputs": [],
   "source": [
    "second_result = await Runner.run(triage_agent, \"Could you provide me with instructions how to increase my bench press one rep max?\")"
   ]
  },
  {
   "cell_type": "code",
   "execution_count": 12,
   "id": "29b731d8-6d95-4143-853a-2f0501de2573",
   "metadata": {},
   "outputs": [
    {
     "name": "stdout",
     "output_type": "stream",
     "text": [
      "Increasing your bench press one-rep max (1RM) involves a combination of specific training techniques, nutrition, and recovery strategies. Below are structured instructions based on scientific principles:\n",
      "\n",
      "### 1. **Progressive Overload**\n",
      "- **Gradual Increase:** Aim to gradually increase the weight you lift over time. This challenges your muscles, promoting strength gains. \\[1\\]\n",
      "- **Weekly Increments:** Add small increments (e.g., 2.5-5 pounds) each week or every two weeks.\n",
      "\n",
      "### 2. **Training Frequency and Volume**\n",
      "- **Frequency:** Train the bench press 2-3 times per week. \\[2\\]\n",
      "- **Volume:** Use a mix of heavy (3-5 reps) and moderate (6-12 reps) sets. This allows you to target both strength and hypertrophy.\n",
      "\n",
      "### 3. **Technique and Form**\n",
      "- **Proper Technique:** Maintain proper bench press form—retracted scapulae, feet firmly planted, and consistent bar path. Poor form can hinder progress and cause injury. \\[3\\]\n",
      "- **Pause Reps:** Incorporate pause reps to improve control and eliminate momentum.\n",
      "\n",
      "### 4. **Accessory Exercises**\n",
      "- **Strength Builders:** Include exercises like incline bench press, dumbbell bench press, and tricep extensions to target supporting muscles. \\[4\\]\n",
      "- **Stabilization Drills:** Exercises such as push-ups and planks enhance shoulder stability.\n",
      "\n",
      "### 5. **Periodization**\n",
      "- **Cycles:** Use periodization to cycle through different training phases (e.g., hypertrophy phase, strength phase, peaking phase). This approach prevents plateaus and promotes continuous improvement. \\[5\\]\n",
      "\n",
      "### 6. **Nutrition**\n",
      "- **Protein Intake:** Ensure adequate protein intake to support muscle repair and growth (about 1.6-2.2g/kg of body weight). \\[6\\]\n",
      "- **Caloric Surplus:** Consuming slightly more calories than you burn can support muscle growth.\n",
      "\n",
      "### 7. **Recovery**\n",
      "- **Rest Days:** Include rest days and prioritize sleep to allow muscle recovery. \\[7\\]\n",
      "- **Active Recovery:** Engage in light activities or stretching on rest days.\n",
      "\n",
      "### 8. **Progress Monitoring**\n",
      "- **Regular Testing:** Test your 1RM periodically, every 6-8 weeks, to assess progress and adjust your program as needed.\n",
      "\n",
      "### References\n",
      "1. Schoenfeld BJ. The mechanisms of muscle hypertrophy and their application to resistance training. J Strength Cond Res. 2010.\n",
      "2. Rhea MR, et al. A meta-analysis to determine the dose-response for strength development. Med Sci Sports Exerc. 2003.\n",
      "3. van den Tillaar R, Ettema G. A comparison of muscle activity in concentric and eccentric contractions during bench press variations. J Strength Cond Res. 2013.\n",
      "4. Contreras B, Schoenfeld B. To crunch or not to crunch: an evidence-based examination of spinal flexion exercises, their potential risks, and their applicability to program design. Strength Cond J. 2011.\n",
      "5. Fleck SJ. Periodized strength training: a critical review. J Strength Cond Res. 1999.\n",
      "6. Morton RW, et al. A systematic review, meta-analysis, and meta-regression of the effect of protein supplementation on resistance training-induced gains in muscle mass and strength in healthy adults. Br J Sports Med. 2018.\n",
      "7. Fullagar HHK, et al. Sleep and athletic performance: the effects of sleep loss on exercise performance, and physiological and cognitive responses to exercise. Sports Med. 2015.\n",
      "\n",
      "Implement these strategies consistently to optimize your bench press performance.\n"
     ]
    }
   ],
   "source": [
    "print(second_result.new_items[-1].raw_item.content[0].text)"
   ]
  }
 ],
 "metadata": {
  "kernelspec": {
   "display_name": "Python 3 (ipykernel)",
   "language": "python",
   "name": "python3"
  },
  "language_info": {
   "codemirror_mode": {
    "name": "ipython",
    "version": 3
   },
   "file_extension": ".py",
   "mimetype": "text/x-python",
   "name": "python",
   "nbconvert_exporter": "python",
   "pygments_lexer": "ipython3",
   "version": "3.11.13"
  }
 },
 "nbformat": 4,
 "nbformat_minor": 5
}
